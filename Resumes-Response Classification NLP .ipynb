{
 "cells": [
  {
   "cell_type": "markdown",
   "metadata": {},
   "source": [
    "# Resumes/Response dataset \n",
    "\n",
    "Sheet_2.csv contains 125 resumes, in the resume_text column. Resumes were queried from Indeed.com with keyword 'data scientist', location 'Vermont'. If a resume is 'not flagged', the applicant can submit a modified resume version at a later date. If it is 'flagged', the applicant is invited to interview.\n",
    "\n",
    "The task her is to Classify new resumes/responses as flagged or not flagged.\n",
    "\n",
    "There are two sets of data here - resumes and responses. Split the data into a train set and a test set to test the accuracy of your classifier. Bonus points for using the same classifier for both problems.\n",
    "\n",
    "Diving Deep!!!"
   ]
  },
  {
   "cell_type": "markdown",
   "metadata": {},
   "source": [
    "The pipeline (This's a classification challenge)\n",
    "1. Load data\n",
    "2. Feature extraction of the data (This helps us to understand the dataset)\n",
    "3. Preprocessing \n",
    "4. Tokenization\n",
    "5. Stemming & Lemmatization\n",
    "6. Normalization\n",
    "7. Modelling\n",
    "\n",
    "\n"
   ]
  },
  {
   "cell_type": "code",
   "execution_count": 1,
   "metadata": {},
   "outputs": [],
   "source": [
    "import warnings\n",
    "warnings.filterwarnings(\"ignore\")                     #Ignoring unnecessory warnings\n",
    "\n",
    "import numpy as np                                  #for large and multi-dimensional arrays\n",
    "import pandas as pd                                 #for data manipulation and analysis\n",
    "import nltk                                         #Natural language processing tool-kit\n",
    "\n",
    "from nltk.corpus import stopwords                   #Stopwords corpus\n",
    "from nltk.stem import PorterStemmer                 # Stemmer\n",
    "\n",
    "from sklearn.feature_extraction.text import CountVectorizer          #For Bag of words\n",
    "from sklearn.feature_extraction.text import TfidfVectorizer          #For TF-IDF\n",
    "#from gensim.models import Word2Vec                                   #For Word2Vec"
   ]
  },
  {
   "cell_type": "code",
   "execution_count": 10,
   "metadata": {},
   "outputs": [
    {
     "data": {
      "text/html": [
       "<div>\n",
       "<style scoped>\n",
       "    .dataframe tbody tr th:only-of-type {\n",
       "        vertical-align: middle;\n",
       "    }\n",
       "\n",
       "    .dataframe tbody tr th {\n",
       "        vertical-align: top;\n",
       "    }\n",
       "\n",
       "    .dataframe thead th {\n",
       "        text-align: right;\n",
       "    }\n",
       "</style>\n",
       "<table border=\"1\" class=\"dataframe\">\n",
       "  <thead>\n",
       "    <tr style=\"text-align: right;\">\n",
       "      <th></th>\n",
       "      <th>resume_id</th>\n",
       "      <th>class</th>\n",
       "      <th>resume_text</th>\n",
       "    </tr>\n",
       "  </thead>\n",
       "  <tbody>\n",
       "    <tr>\n",
       "      <td>0</td>\n",
       "      <td>resume_1</td>\n",
       "      <td>not_flagged</td>\n",
       "      <td>\\rCustomer Service Supervisor/Tier - Isabella ...</td>\n",
       "    </tr>\n",
       "    <tr>\n",
       "      <td>1</td>\n",
       "      <td>resume_2</td>\n",
       "      <td>not_flagged</td>\n",
       "      <td>\\rEngineer / Scientist - IBM Microelectronics ...</td>\n",
       "    </tr>\n",
       "    <tr>\n",
       "      <td>2</td>\n",
       "      <td>resume_3</td>\n",
       "      <td>not_flagged</td>\n",
       "      <td>\\rLTS Software Engineer Computational Lithogra...</td>\n",
       "    </tr>\n",
       "    <tr>\n",
       "      <td>3</td>\n",
       "      <td>resume_4</td>\n",
       "      <td>not_flagged</td>\n",
       "      <td>TUTOR\\rWilliston VT - Email me on Indeed: ind...</td>\n",
       "    </tr>\n",
       "    <tr>\n",
       "      <td>4</td>\n",
       "      <td>resume_5</td>\n",
       "      <td>flagged</td>\n",
       "      <td>\\rIndependent Consultant - Self-employed\\rBurl...</td>\n",
       "    </tr>\n",
       "  </tbody>\n",
       "</table>\n",
       "</div>"
      ],
      "text/plain": [
       "  resume_id        class                                        resume_text\n",
       "0  resume_1  not_flagged  \\rCustomer Service Supervisor/Tier - Isabella ...\n",
       "1  resume_2  not_flagged  \\rEngineer / Scientist - IBM Microelectronics ...\n",
       "2  resume_3  not_flagged  \\rLTS Software Engineer Computational Lithogra...\n",
       "3  resume_4  not_flagged   TUTOR\\rWilliston VT - Email me on Indeed: ind...\n",
       "4  resume_5      flagged  \\rIndependent Consultant - Self-employed\\rBurl..."
      ]
     },
     "execution_count": 10,
     "metadata": {},
     "output_type": "execute_result"
    }
   ],
   "source": [
    "#Loading the first 5 rows\n",
    "resume = pd.read_csv('D:\\\\R-Projects\\\\Sheet_2.csv', encoding='latin-1')\n",
    "resume.head()"
   ]
  },
  {
   "cell_type": "markdown",
   "metadata": {},
   "source": [
    "# 1.0 Feature extraction Phase"
   ]
  },
  {
   "cell_type": "markdown",
   "metadata": {},
   "source": [
    "We can see from above output that our dataset has Punctuations, Capitalised words, Stop words, \n",
    "\n",
    "Issues to deal with..."
   ]
  },
  {
   "cell_type": "code",
   "execution_count": 3,
   "metadata": {},
   "outputs": [
    {
     "name": "stdout",
     "output_type": "stream",
     "text": [
      "Dataset size: (125, 3)\n",
      "Number of Columns: Index(['resume_id', 'class', 'resume_text'], dtype='object')\n"
     ]
    }
   ],
   "source": [
    "#How many rows & columns columns do we have?\n",
    "print('Dataset size:',resume.shape)\n",
    "print('Number of Columns:',resume.columns)"
   ]
  },
  {
   "cell_type": "code",
   "execution_count": 4,
   "metadata": {},
   "outputs": [
    {
     "data": {
      "text/html": [
       "<div>\n",
       "<style scoped>\n",
       "    .dataframe tbody tr th:only-of-type {\n",
       "        vertical-align: middle;\n",
       "    }\n",
       "\n",
       "    .dataframe tbody tr th {\n",
       "        vertical-align: top;\n",
       "    }\n",
       "\n",
       "    .dataframe thead th {\n",
       "        text-align: right;\n",
       "    }\n",
       "</style>\n",
       "<table border=\"1\" class=\"dataframe\">\n",
       "  <thead>\n",
       "    <tr style=\"text-align: right;\">\n",
       "      <th></th>\n",
       "      <th>resume_text</th>\n",
       "      <th>word_count</th>\n",
       "    </tr>\n",
       "  </thead>\n",
       "  <tbody>\n",
       "    <tr>\n",
       "      <td>0</td>\n",
       "      <td>\\rCustomer Service Supervisor/Tier - Isabella ...</td>\n",
       "      <td>723</td>\n",
       "    </tr>\n",
       "    <tr>\n",
       "      <td>1</td>\n",
       "      <td>\\rEngineer / Scientist - IBM Microelectronics ...</td>\n",
       "      <td>367</td>\n",
       "    </tr>\n",
       "    <tr>\n",
       "      <td>2</td>\n",
       "      <td>\\rLTS Software Engineer Computational Lithogra...</td>\n",
       "      <td>803</td>\n",
       "    </tr>\n",
       "    <tr>\n",
       "      <td>3</td>\n",
       "      <td>TUTOR\\rWilliston VT - Email me on Indeed: ind...</td>\n",
       "      <td>603</td>\n",
       "    </tr>\n",
       "    <tr>\n",
       "      <td>4</td>\n",
       "      <td>\\rIndependent Consultant - Self-employed\\rBurl...</td>\n",
       "      <td>543</td>\n",
       "    </tr>\n",
       "  </tbody>\n",
       "</table>\n",
       "</div>"
      ],
      "text/plain": [
       "                                         resume_text  word_count\n",
       "0  \\rCustomer Service Supervisor/Tier - Isabella ...         723\n",
       "1  \\rEngineer / Scientist - IBM Microelectronics ...         367\n",
       "2  \\rLTS Software Engineer Computational Lithogra...         803\n",
       "3   TUTOR\\rWilliston VT - Email me on Indeed: ind...         603\n",
       "4  \\rIndependent Consultant - Self-employed\\rBurl...         543"
      ]
     },
     "execution_count": 4,
     "metadata": {},
     "output_type": "execute_result"
    }
   ],
   "source": [
    "#Let's check the word count of our sentences \n",
    "#This can help us discover which resumes have shorter words? the flagged or not-flagged resumes \n",
    "\n",
    "resume['word_count'] = resume['resume_text'].apply(lambda x: len(str(x).split(\" \")))\n",
    "resume[['resume_text','word_count']].head()"
   ]
  },
  {
   "cell_type": "code",
   "execution_count": 5,
   "metadata": {},
   "outputs": [
    {
     "data": {
      "text/html": [
       "<div>\n",
       "<style scoped>\n",
       "    .dataframe tbody tr th:only-of-type {\n",
       "        vertical-align: middle;\n",
       "    }\n",
       "\n",
       "    .dataframe tbody tr th {\n",
       "        vertical-align: top;\n",
       "    }\n",
       "\n",
       "    .dataframe thead th {\n",
       "        text-align: right;\n",
       "    }\n",
       "</style>\n",
       "<table border=\"1\" class=\"dataframe\">\n",
       "  <thead>\n",
       "    <tr style=\"text-align: right;\">\n",
       "      <th></th>\n",
       "      <th>resume_text</th>\n",
       "      <th>char_count</th>\n",
       "    </tr>\n",
       "  </thead>\n",
       "  <tbody>\n",
       "    <tr>\n",
       "      <td>0</td>\n",
       "      <td>\\rCustomer Service Supervisor/Tier - Isabella ...</td>\n",
       "      <td>5505</td>\n",
       "    </tr>\n",
       "    <tr>\n",
       "      <td>1</td>\n",
       "      <td>\\rEngineer / Scientist - IBM Microelectronics ...</td>\n",
       "      <td>3129</td>\n",
       "    </tr>\n",
       "    <tr>\n",
       "      <td>2</td>\n",
       "      <td>\\rLTS Software Engineer Computational Lithogra...</td>\n",
       "      <td>5779</td>\n",
       "    </tr>\n",
       "    <tr>\n",
       "      <td>3</td>\n",
       "      <td>TUTOR\\rWilliston VT - Email me on Indeed: ind...</td>\n",
       "      <td>4405</td>\n",
       "    </tr>\n",
       "    <tr>\n",
       "      <td>4</td>\n",
       "      <td>\\rIndependent Consultant - Self-employed\\rBurl...</td>\n",
       "      <td>4160</td>\n",
       "    </tr>\n",
       "  </tbody>\n",
       "</table>\n",
       "</div>"
      ],
      "text/plain": [
       "                                         resume_text  char_count\n",
       "0  \\rCustomer Service Supervisor/Tier - Isabella ...        5505\n",
       "1  \\rEngineer / Scientist - IBM Microelectronics ...        3129\n",
       "2  \\rLTS Software Engineer Computational Lithogra...        5779\n",
       "3   TUTOR\\rWilliston VT - Email me on Indeed: ind...        4405\n",
       "4  \\rIndependent Consultant - Self-employed\\rBurl...        4160"
      ]
     },
     "execution_count": 5,
     "metadata": {},
     "output_type": "execute_result"
    }
   ],
   "source": [
    "#Let's also get the Number of characters in each Review\n",
    "#This can help us discover which resumes have shorter characters? the flagged or not-flagged resumes \n",
    "\n",
    "resume['char_count'] = resume['resume_text'].str.len() # Character count includes spaces\n",
    "resume[['resume_text','char_count']].head()"
   ]
  },
  {
   "cell_type": "code",
   "execution_count": 6,
   "metadata": {},
   "outputs": [
    {
     "data": {
      "text/html": [
       "<div>\n",
       "<style scoped>\n",
       "    .dataframe tbody tr th:only-of-type {\n",
       "        vertical-align: middle;\n",
       "    }\n",
       "\n",
       "    .dataframe tbody tr th {\n",
       "        vertical-align: top;\n",
       "    }\n",
       "\n",
       "    .dataframe thead th {\n",
       "        text-align: right;\n",
       "    }\n",
       "</style>\n",
       "<table border=\"1\" class=\"dataframe\">\n",
       "  <thead>\n",
       "    <tr style=\"text-align: right;\">\n",
       "      <th></th>\n",
       "      <th>resume_text</th>\n",
       "      <th>StopWords Count</th>\n",
       "    </tr>\n",
       "  </thead>\n",
       "  <tbody>\n",
       "    <tr>\n",
       "      <td>0</td>\n",
       "      <td>\\rCustomer Service Supervisor/Tier - Isabella ...</td>\n",
       "      <td>152</td>\n",
       "    </tr>\n",
       "    <tr>\n",
       "      <td>1</td>\n",
       "      <td>\\rEngineer / Scientist - IBM Microelectronics ...</td>\n",
       "      <td>62</td>\n",
       "    </tr>\n",
       "    <tr>\n",
       "      <td>2</td>\n",
       "      <td>\\rLTS Software Engineer Computational Lithogra...</td>\n",
       "      <td>182</td>\n",
       "    </tr>\n",
       "    <tr>\n",
       "      <td>3</td>\n",
       "      <td>TUTOR\\rWilliston VT - Email me on Indeed: ind...</td>\n",
       "      <td>153</td>\n",
       "    </tr>\n",
       "    <tr>\n",
       "      <td>4</td>\n",
       "      <td>\\rIndependent Consultant - Self-employed\\rBurl...</td>\n",
       "      <td>137</td>\n",
       "    </tr>\n",
       "  </tbody>\n",
       "</table>\n",
       "</div>"
      ],
      "text/plain": [
       "                                         resume_text  StopWords Count\n",
       "0  \\rCustomer Service Supervisor/Tier - Isabella ...              152\n",
       "1  \\rEngineer / Scientist - IBM Microelectronics ...               62\n",
       "2  \\rLTS Software Engineer Computational Lithogra...              182\n",
       "3   TUTOR\\rWilliston VT - Email me on Indeed: ind...              153\n",
       "4  \\rIndependent Consultant - Self-employed\\rBurl...              137"
      ]
     },
     "execution_count": 6,
     "metadata": {},
     "output_type": "execute_result"
    }
   ],
   "source": [
    "#We want now to discover the stopWords count\n",
    "#Firstly, we load the Python StopWords Dictionary\n",
    "from nltk.corpus import stopwords\n",
    "stop = stopwords.words('english')\n",
    "#The here we write the StopWord count function \n",
    "resume['StopWords Count'] = resume['resume_text'].apply(lambda x: len([x for x in x.split() if x in stop]))\n",
    "resume[['resume_text','StopWords Count']].head()"
   ]
  },
  {
   "cell_type": "markdown",
   "metadata": {},
   "source": [
    "From the above output, we discover another issues to deal with, \n",
    "Removing stopwords "
   ]
  },
  {
   "cell_type": "code",
   "execution_count": 7,
   "metadata": {},
   "outputs": [
    {
     "data": {
      "text/html": [
       "<div>\n",
       "<style scoped>\n",
       "    .dataframe tbody tr th:only-of-type {\n",
       "        vertical-align: middle;\n",
       "    }\n",
       "\n",
       "    .dataframe tbody tr th {\n",
       "        vertical-align: top;\n",
       "    }\n",
       "\n",
       "    .dataframe thead th {\n",
       "        text-align: right;\n",
       "    }\n",
       "</style>\n",
       "<table border=\"1\" class=\"dataframe\">\n",
       "  <thead>\n",
       "    <tr style=\"text-align: right;\">\n",
       "      <th></th>\n",
       "      <th>resume_text</th>\n",
       "      <th>hastags</th>\n",
       "    </tr>\n",
       "  </thead>\n",
       "  <tbody>\n",
       "    <tr>\n",
       "      <td>0</td>\n",
       "      <td>\\rCustomer Service Supervisor/Tier - Isabella ...</td>\n",
       "      <td>0</td>\n",
       "    </tr>\n",
       "    <tr>\n",
       "      <td>1</td>\n",
       "      <td>\\rEngineer / Scientist - IBM Microelectronics ...</td>\n",
       "      <td>0</td>\n",
       "    </tr>\n",
       "    <tr>\n",
       "      <td>2</td>\n",
       "      <td>\\rLTS Software Engineer Computational Lithogra...</td>\n",
       "      <td>0</td>\n",
       "    </tr>\n",
       "    <tr>\n",
       "      <td>3</td>\n",
       "      <td>TUTOR\\rWilliston VT - Email me on Indeed: ind...</td>\n",
       "      <td>0</td>\n",
       "    </tr>\n",
       "    <tr>\n",
       "      <td>4</td>\n",
       "      <td>\\rIndependent Consultant - Self-employed\\rBurl...</td>\n",
       "      <td>0</td>\n",
       "    </tr>\n",
       "  </tbody>\n",
       "</table>\n",
       "</div>"
      ],
      "text/plain": [
       "                                         resume_text  hastags\n",
       "0  \\rCustomer Service Supervisor/Tier - Isabella ...        0\n",
       "1  \\rEngineer / Scientist - IBM Microelectronics ...        0\n",
       "2  \\rLTS Software Engineer Computational Lithogra...        0\n",
       "3   TUTOR\\rWilliston VT - Email me on Indeed: ind...        0\n",
       "4  \\rIndependent Consultant - Self-employed\\rBurl...        0"
      ]
     },
     "execution_count": 7,
     "metadata": {},
     "output_type": "execute_result"
    }
   ],
   "source": [
    "#Function to check the number of special characters in the dataset, \n",
    "\n",
    "resume['hastags'] = resume['resume_text'].apply(lambda x: len([x for x in x.split() if x.startswith('#')]))\n",
    "resume[['resume_text','hastags']].head()\n"
   ]
  },
  {
   "cell_type": "markdown",
   "metadata": {},
   "source": [
    "We have found that thre's no hashtags in our dataset, but we can write a complete function to search all types of special characters in our dataset\n"
   ]
  },
  {
   "cell_type": "code",
   "execution_count": 11,
   "metadata": {},
   "outputs": [],
   "source": [
    "#This is the function to remove noise in our dataset\n",
    "import re, string\n",
    "\n",
    "def remove_noise(tweet_tokens, stop_words = ()):\n",
    "\n",
    "    cleaned_tokens = []\n",
    "\n",
    "    for token, tag in pos_tag(tweet_tokens):\n",
    "        token = re.sub('http[s]?://(?:[a-zA-Z]|[0-9]|[$-_@.&+#]|[!*\\(\\),]|'\\\n",
    "                       '(?:%[0-9a-fA-F][0-9a-fA-F]))+','', token)\n",
    "        token = re.sub(\"(@[A-Za-z0-9_]+)\",\"\", token)\n",
    "\n",
    "        if tag.startswith(\"NN\"):\n",
    "            pos = 'n'\n",
    "        elif tag.startswith('VB'):\n",
    "            pos = 'v'\n",
    "        else:\n",
    "            pos = 'a'\n",
    "\n",
    "        lemmatizer = WordNetLemmatizer()\n",
    "        token = lemmatizer.lemmatize(token, pos)\n",
    "\n",
    "        if len(token) > 0 and token not in string.punctuation and token.lower() not in stop_words:\n",
    "            cleaned_tokens.append(token.lower())\n",
    "    return cleaned_tokens\n"
   ]
  },
  {
   "cell_type": "code",
   "execution_count": 16,
   "metadata": {},
   "outputs": [
    {
     "data": {
      "text/plain": [
       "['resumeid', 'class', 'resumetext']"
      ]
     },
     "execution_count": 16,
     "metadata": {},
     "output_type": "execute_result"
    }
   ],
   "source": [
    "#Let's pass our function ('remove_noise') to our dataset\n",
    "# Create function using string.punctuation to remove all punctuation\n",
    "def remove_punctuation(sentence: str) -> str:\n",
    "    return sentence.translate(str.maketrans('', '', string.punctuation))\n",
    "\n",
    "# Apply function\n",
    "[remove_punctuation(sentence) for sentence in resume]"
   ]
  },
  {
   "cell_type": "code",
   "execution_count": null,
   "metadata": {},
   "outputs": [],
   "source": []
  }
 ],
 "metadata": {
  "kernelspec": {
   "display_name": "Python 3",
   "language": "python",
   "name": "python3"
  },
  "language_info": {
   "codemirror_mode": {
    "name": "ipython",
    "version": 3
   },
   "file_extension": ".py",
   "mimetype": "text/x-python",
   "name": "python",
   "nbconvert_exporter": "python",
   "pygments_lexer": "ipython3",
   "version": "3.8.3"
  }
 },
 "nbformat": 4,
 "nbformat_minor": 2
}
